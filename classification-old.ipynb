{
 "cells": [
  {
   "cell_type": "markdown",
   "id": "653c5602",
   "metadata": {},
   "source": [
    "### Binary Classification"
   ]
  },
  {
   "cell_type": "code",
   "execution_count": 4,
   "id": "5eb9bc00",
   "metadata": {},
   "outputs": [
    {
     "name": "stdout",
     "output_type": "stream",
     "text": [
      "This is Spam ❌\n"
     ]
    }
   ],
   "source": [
    "# Step 1: Import libraries\n",
    "from sklearn.feature_extraction.text import CountVectorizer\n",
    "from sklearn.naive_bayes import MultinomialNB\n",
    "from sklearn.pipeline import make_pipeline\n",
    "\n",
    "# Step 2: Sample training data\n",
    "emails = [\n",
    "    \"Congratulations, you won a free lottery!\",   # Spam\n",
    "    \"Earn money quickly now!\",                    # Spam\n",
    "    \"Your account has been hacked!\",              # Spam\n",
    "    \"Let’s meet for lunch tomorrow\",              # Not Spam\n",
    "    \"Project meeting is scheduled at 3 PM\",       # Not Spam\n",
    "    \"Can we reschedule our appointment?\"          # Not Spam\n",
    "]\n",
    "\n",
    "labels = [1, 1, 1, 0, 0, 0]\n",
    "\n",
    "# Step 3: Create a text classification model (pipeline)\n",
    "model = make_pipeline(CountVectorizer(), MultinomialNB())\n",
    "\n",
    "# Step 4: Train the model\n",
    "model.fit(emails, labels)\n",
    "\n",
    "# Step 5: Test the model with new email\n",
    "test_email = [\"Get new car free!\"]\n",
    "prediction = model.predict(test_email)\n",
    "\n",
    "# Step 6: Show result\n",
    "if prediction[0] == 1:\n",
    "    print(\"This is Spam ❌\")\n",
    "else:\n",
    "    print(\"This is Not Spam ✅\")\n"
   ]
  },
  {
   "cell_type": "markdown",
   "id": "2eec43e2",
   "metadata": {},
   "source": [
    "### Multiclass Classification"
   ]
  },
  {
   "cell_type": "code",
   "execution_count": 7,
   "id": "83ab7d2d",
   "metadata": {},
   "outputs": [
    {
     "name": "stdout",
     "output_type": "stream",
     "text": [
      "Predicted category: Updates\n"
     ]
    }
   ],
   "source": [
    "from sklearn.feature_extraction.text import CountVectorizer\n",
    "from sklearn.naive_bayes import MultinomialNB\n",
    "from sklearn.pipeline import make_pipeline\n",
    "\n",
    "# Example emails and their categories\n",
    "emails = [\n",
    "    \"Buy one get one free on shoes\",         # Promotions\n",
    "    \"Your order has been shipped\",           # Updates\n",
    "    \"Join our Facebook group\",               # Social\n",
    "    \"50% off on electronics\",                # Promotions\n",
    "    \"Meeting rescheduled to Monday\",         # Updates\n",
    "    \"Let's catch up over coffee\",            # Social\n",
    "]\n",
    "\n",
    "# Corresponding labels\n",
    "labels = [\n",
    "    \"Promotions\",\n",
    "    \"Updates\",\n",
    "    \"Social\",\n",
    "    \"Promotions\",\n",
    "    \"Updates\",\n",
    "    \"Social\"\n",
    "]\n",
    "\n",
    "# Create a text classification pipeline\n",
    "model = make_pipeline(CountVectorizer(), MultinomialNB())\n",
    "\n",
    "# Train with the sample emails\n",
    "model.fit(emails, labels)\n",
    "\n",
    "# New email to classify\n",
    "new_email = \"order review\"\n",
    "\n",
    "# Predict the category\n",
    "predicted = model.predict([new_email])\n",
    "print(\"Predicted category:\", predicted[0])\n"
   ]
  }
 ],
 "metadata": {
  "kernelspec": {
   "display_name": "Python [conda env:base] *",
   "language": "python",
   "name": "conda-base-py"
  },
  "language_info": {
   "codemirror_mode": {
    "name": "ipython",
    "version": 3
   },
   "file_extension": ".py",
   "mimetype": "text/x-python",
   "name": "python",
   "nbconvert_exporter": "python",
   "pygments_lexer": "ipython3",
   "version": "3.12.7"
  }
 },
 "nbformat": 4,
 "nbformat_minor": 5
}
